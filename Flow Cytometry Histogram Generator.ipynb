{
 "cells": [
  {
   "cell_type": "code",
   "execution_count": 5,
   "metadata": {},
   "outputs": [],
   "source": [
    "\n",
    "import numpy as np\n",
    "import pandas as pd\n",
    "\n",
    "import matplotlib.pyplot as plt\n",
    "from matplotlib import cm\n",
    "#import seaborn as sns\n",
    "from mpl_toolkits import mplot3d\n",
    "from matplotlib.collections import PolyCollection\n"
   ]
  },
  {
   "cell_type": "code",
   "execution_count": 3,
   "metadata": {
    "collapsed": true
   },
   "outputs": [],
   "source": [
    "fc_data = []\n",
    "first_file = '/Users/willcheney/Code/code/Flow Cytometry/2020-06-19/2020-06-19 well A9.csv'\n",
    "fc_data.append(pd.read_csv(first_file))\n",
    "\n",
    "second_file = '/Users/willcheney/Code/code/Flow Cytometry/2020-06-19/2020-06-19 A10.csv'\n",
    "fc_data.append(pd.read_csv(second_file))\n",
    "\n",
    "third_file = '/Users/willcheney/Code/code/Flow Cytometry/2020-06-19/2020-06-19 A11.csv'\n",
    "fc_data.append(pd.read_csv(third_file))\n",
    "\n",
    "fourth_file = '/Users/willcheney/Code/code/Flow Cytometry/2020-06-19/2020-06-19 A12.csv'\n",
    "fc_data.append(pd.read_csv(fourth_file))\n",
    "\n",
    "fifth_file = '/Users/willcheney/Code/code/Flow Cytometry/2020-06-19/2020-06-19 B1.csv'\n",
    "fc_data.append(pd.read_csv(fifth_file))\n",
    "\n",
    "sixth_file = '/Users/willcheney/Code/code/Flow Cytometry/2020-06-19/2020-06-19 B2.csv'\n",
    "fc_data.append(pd.read_csv(sixth_file))\n",
    "\n",
    "sixth_file = '/Users/willcheney/Code/code/Flow Cytometry/2020-06-19/2020-06-19 B3.csv'\n",
    "fc_data.append(pd.read_csv(sixth_file))\n",
    "sixth_file = '/Users/willcheney/Code/code/Flow Cytometry/2020-06-19/2020-06-19 B4.csv'\n",
    "fc_data.append(pd.read_csv(sixth_file))"
   ]
  },
  {
   "cell_type": "code",
   "execution_count": 3,
   "metadata": {
    "collapsed": true
   },
   "outputs": [],
   "source": [
    "mean_FL1_A = []\n",
    "median_FL1_A = []\n",
    "\n",
    "for i in fc_data:\n",
    "    \n",
    "    mean_FL1_A.append(np.mean(i['FL1-A']))\n",
    "    median_FL1_A.append(np.median(i['FL1-A']))\n",
    "\n",
    "\n"
   ]
  },
  {
   "cell_type": "code",
   "execution_count": 7,
   "metadata": {
    "collapsed": true
   },
   "outputs": [],
   "source": [
    "bin_exp = np.log10(max(fc_data[5]['FL1-A']))/250\n",
    "bins = [1]\n",
    "counter = 1\n",
    "while(bins[-1] < 10**(np.log10(max(fc_data[5]['FL1-A'])))):\n",
    "    \n",
    "    bins.append(10**(bin_exp*counter))\n",
    "    counter += 1\n",
    "    "
   ]
  },
  {
   "cell_type": "code",
   "execution_count": 12,
   "metadata": {},
   "outputs": [
    {
     "ename": "IndexError",
     "evalue": "list index out of range",
     "output_type": "error",
     "traceback": [
      "\u001b[0;31m---------------------------------------------------------------------------\u001b[0m",
      "\u001b[0;31mIndexError\u001b[0m                                Traceback (most recent call last)",
      "\u001b[0;32m<ipython-input-12-aac20a3faeab>\u001b[0m in \u001b[0;36m<module>\u001b[0;34m()\u001b[0m\n\u001b[1;32m      1\u001b[0m \u001b[0mcmaps\u001b[0m\u001b[0;34m[\u001b[0m\u001b[0;34m'Sequential'\u001b[0m\u001b[0;34m]\u001b[0m \u001b[0;34m=\u001b[0m \u001b[0;34m[\u001b[0m\u001b[0;34m'Blues'\u001b[0m\u001b[0;34m]\u001b[0m\u001b[0;34m\u001b[0m\u001b[0m\n\u001b[0;32m----> 2\u001b[0;31m \u001b[0mcmaps\u001b[0m\u001b[0;34m[\u001b[0m\u001b[0;34m'Sequential'\u001b[0m\u001b[0;34m]\u001b[0m\u001b[0;34m[\u001b[0m\u001b[0;36m1\u001b[0m\u001b[0;34m]\u001b[0m\u001b[0;34m\u001b[0m\u001b[0m\n\u001b[0m",
      "\u001b[0;31mIndexError\u001b[0m: list index out of range"
     ]
    }
   ],
   "source": []
  },
  {
   "cell_type": "code",
   "execution_count": 25,
   "metadata": {},
   "outputs": [
    {
     "ename": "IndexError",
     "evalue": "list index out of range",
     "output_type": "error",
     "traceback": [
      "\u001b[0;31m---------------------------------------------------------------------------\u001b[0m",
      "\u001b[0;31mIndexError\u001b[0m                                Traceback (most recent call last)",
      "\u001b[0;32m<ipython-input-25-db5c60c2da79>\u001b[0m in \u001b[0;36m<module>\u001b[0;34m()\u001b[0m\n\u001b[1;32m      2\u001b[0m \u001b[0mlegend\u001b[0m  \u001b[0;34m=\u001b[0m \u001b[0;34m[\u001b[0m\u001b[0;34m'0'\u001b[0m\u001b[0;34m,\u001b[0m\u001b[0;34m'0.001µM'\u001b[0m\u001b[0;34m,\u001b[0m\u001b[0;34m'0.01µM'\u001b[0m\u001b[0;34m,\u001b[0m\u001b[0;34m'0.1µM'\u001b[0m\u001b[0;34m,\u001b[0m\u001b[0;34m'1µM'\u001b[0m\u001b[0;34m,\u001b[0m\u001b[0;34m'10µM'\u001b[0m\u001b[0;34m]\u001b[0m\u001b[0;34m\u001b[0m\u001b[0m\n\u001b[1;32m      3\u001b[0m \u001b[0;32mfor\u001b[0m \u001b[0mi\u001b[0m \u001b[0;32min\u001b[0m \u001b[0mrange\u001b[0m\u001b[0;34m(\u001b[0m\u001b[0;36m0\u001b[0m\u001b[0;34m,\u001b[0m\u001b[0mlen\u001b[0m\u001b[0;34m(\u001b[0m\u001b[0mfc_data\u001b[0m\u001b[0;34m)\u001b[0m\u001b[0;34m)\u001b[0m\u001b[0;34m:\u001b[0m\u001b[0;34m\u001b[0m\u001b[0m\n\u001b[0;32m----> 4\u001b[0;31m     \u001b[0mplt\u001b[0m\u001b[0;34m.\u001b[0m\u001b[0mhist\u001b[0m\u001b[0;34m(\u001b[0m\u001b[0mfc_data\u001b[0m\u001b[0;34m[\u001b[0m\u001b[0mi\u001b[0m\u001b[0;34m]\u001b[0m\u001b[0;34m[\u001b[0m\u001b[0;34m'FL1-A'\u001b[0m\u001b[0;34m]\u001b[0m\u001b[0;34m,\u001b[0m\u001b[0mbins\u001b[0m \u001b[0;34m=\u001b[0m \u001b[0;34m'auto'\u001b[0m\u001b[0;34m,\u001b[0m \u001b[0mhisttype\u001b[0m \u001b[0;34m=\u001b[0m \u001b[0;34m'step'\u001b[0m\u001b[0;34m,\u001b[0m \u001b[0mcolor\u001b[0m \u001b[0;34m=\u001b[0m \u001b[0mcmap\u001b[0m\u001b[0;34m(\u001b[0m\u001b[0;34m(\u001b[0m\u001b[0mi\u001b[0m\u001b[0;34m*\u001b[0m\u001b[0;36m50\u001b[0m\u001b[0;34m)\u001b[0m\u001b[0;34m)\u001b[0m\u001b[0;34m,\u001b[0m \u001b[0mlabel\u001b[0m \u001b[0;34m=\u001b[0m \u001b[0mlegend\u001b[0m\u001b[0;34m[\u001b[0m\u001b[0mi\u001b[0m\u001b[0;34m]\u001b[0m\u001b[0;34m)\u001b[0m\u001b[0;34m\u001b[0m\u001b[0m\n\u001b[0m\u001b[1;32m      5\u001b[0m     \u001b[0mplt\u001b[0m\u001b[0;34m.\u001b[0m\u001b[0mxscale\u001b[0m\u001b[0;34m(\u001b[0m\u001b[0;34m'log'\u001b[0m\u001b[0;34m)\u001b[0m\u001b[0;34m\u001b[0m\u001b[0m\n\u001b[1;32m      6\u001b[0m \u001b[0;34m\u001b[0m\u001b[0m\n",
      "\u001b[0;31mIndexError\u001b[0m: list index out of range"
     ]
    }
   ],
   "source": [
    "cmap = plt.get_cmap('plasma')\n",
    "legend  = ['0','0.001µM','0.01µM','0.1µM','1µM','10µM']\n",
    "for i in range(0,len(fc_data)):\n",
    "    plt.hist(fc_data[i]['FL1-A'],bins = 'auto', histtype = 'step', color = cmap((i*50)), label = legend[i])\n",
    "    plt.xscale('log')\n",
    "    \n",
    "#plt.legend()    \n",
    "fig = plt.gcf()\n",
    "plt.show()\n"
   ]
  },
  {
   "cell_type": "code",
   "execution_count": 9,
   "metadata": {
    "collapsed": true
   },
   "outputs": [],
   "source": [
    "cmap = plt.get_cmap('Blues')"
   ]
  },
  {
   "cell_type": "code",
   "execution_count": 39,
   "metadata": {},
   "outputs": [
    {
     "data": {
      "text/plain": [
       "(0.03137254901960784, 0.18823529411764706, 0.4196078431372549, 1.0)"
      ]
     },
     "execution_count": 39,
     "metadata": {},
     "output_type": "execute_result"
    }
   ],
   "source": [
    "cmap(1000)"
   ]
  },
  {
   "cell_type": "code",
   "execution_count": 10,
   "metadata": {
    "collapsed": true
   },
   "outputs": [],
   "source": [
    "fig.savefig('2019-11-27 viridis WCY13 DAMGO dose response all hist',dpi = 300, bbox_inches='tight')"
   ]
  },
  {
   "cell_type": "code",
   "execution_count": 61,
   "metadata": {},
   "outputs": [
    {
     "data": {
      "text/plain": [
       "151"
      ]
     },
     "execution_count": 61,
     "metadata": {},
     "output_type": "execute_result"
    }
   ],
   "source": [
    "len(bins)"
   ]
  },
  {
   "cell_type": "code",
   "execution_count": 27,
   "metadata": {},
   "outputs": [
    {
     "data": {
      "image/png": "[encoded data removed]",
      "text/plain": [
       "<Figure size 432x288 with 8 Axes>"
      ]
     },
     "metadata": {},
     "output_type": "display_data"
    }
   ],
   "source": [
    "    \n",
    "fig, ax = plt.subplots(len(fc_data), 1, sharex = True, sharey = True)   \n",
    "for i in range(0,len(fc_data)):\n",
    "        #plt.subplot(len(fc_data), 1, (i + 1))\n",
    "        ax[i].hist(fc_data[i]['FL1-A'], bins[100:(len(bins)-15)], color = cmap((i*10)), zorder = 5)\n",
    "        #plt.hist(fc_data[i]['FL1-A'], bins[50:], histtype = 'step', color = 'k', zorder= 15)\n",
    "        plt.xscale('log')\n",
    "        plt.yscale('log')\n",
    "        \n",
    "\n",
    "#plt.subplots_adjust(hspace = 0.)\n",
    "\n",
    "fig2 = plt.gcf()\n",
    "plt.show()\n",
    "    "
   ]
  },
  {
   "cell_type": "code",
   "execution_count": 88,
   "metadata": {
    "collapsed": true
   },
   "outputs": [],
   "source": [
    "fig.savefig('2020-06-18 representative histogram with concentration labels',dpi = 300, bbox_inches='tight')"
   ]
  },
  {
   "cell_type": "code",
   "execution_count": 65,
   "metadata": {},
   "outputs": [
    {
     "data": {
      "image/png": "[encoded data removed]",
      "text/plain": [
       "<Figure size 432x288 with 1 Axes>"
      ]
     },
     "metadata": {},
     "output_type": "display_data"
    }
   ],
   "source": [
    "a = np.histogram(fc_data[0]['FL1-A'], bins[100:(len(bins)-15)])\n",
    "b = list(range(len(a[0])))\n",
    "plt.plot(bins[100:(len(bins)-16)], a[0])\n",
    "plt.xscale('log')\n",
    "plt.fill_between(bins[100:(len(bins)-16)], a[0], alpha = 0.5)\n",
    "plt.show()"
   ]
  },
  {
   "cell_type": "code",
   "execution_count": 18,
   "metadata": {},
   "outputs": [
    {
     "name": "stdout",
     "output_type": "stream",
     "text": [
      "-10.0\n",
      "-9.0\n",
      "-8.0\n",
      "-7.0\n",
      "-6.0\n",
      "-5.0\n",
      "-4.0\n",
      "-3.0\n"
     ]
    },
    {
     "data": {
      "image/png": "[encoded data removed]",
      "text/plain": [
       "<Figure size 432x288 with 1 Axes>"
      ]
     },
     "metadata": {},
     "output_type": "display_data"
    }
   ],
   "source": [
    "fig = plt.figure()\n",
    "ax = plt.axes(projection='3d')\n",
    "verts = []\n",
    "zs = []\n",
    "yticks = [10**-10, 10**-9, 10**-8, 10**-7, 10**-6, 10**-5, 10**-4, 10**-3]\n",
    "for i in range(len(fc_data)):\n",
    "    a = np.histogram(fc_data[i]['FL1-A'], bins[100:(len(bins)-15)])\n",
    "    \n",
    "    ax.plot3D(np.log10(bins[100:(len(bins)-16)]), [np.log10(yticks[i])]*len(bins[100:(len(bins)-16)]), a[0], color = cmap((i*10)))\n",
    "    verts.append(polygon_under_graph(np.log10(bins[100:(len(bins)-16)]), a[0]))\n",
    "    print(np.log10(yticks[i]))\n",
    "    zs.append(np.log10(yticks[i]))\n",
    "    \n",
    "    \n",
    "poly = PolyCollection(verts, facecolor = cmap(([10,20,30,40,50,60,70,80])), alpha = 0.6)\n",
    "ax.add_collection3d(poly, zs=zs, zdir='y')\n",
    "ax.w_xaxis.set_pane_color((1.0, 1.0, 1.0, 1.0))\n",
    "#ax.w_zaxis.set_pane_color((1.0, 1.0, 1.0, 1.0))\n",
    "ax.w_yaxis.set_pane_color((1.0, 1.0, 1.0, 1.0))\n",
    "ax.set_yticks(np.log10(yticks))\n",
    "#ax.set_zticks([])\n",
    "ax.grid(False)\n",
    "\n",
    "fig = plt.gcf()\n",
    "plt.show()"
   ]
  },
  {
   "cell_type": "code",
   "execution_count": 57,
   "metadata": {},
   "outputs": [
    {
     "data": {
      "text/plain": [
       "[283.10940213905246,\n",
       " 299.55311187232655,\n",
       " 316.95191383407905,\n",
       " 335.36128219526665,\n",
       " 354.8399132069243,\n",
       " 375.4499123467231,\n",
       " 397.2569923354708,\n",
       " 420.33068265490965,\n",
       " 444.74455123484285,\n",
       " 470.57643901640495,\n",
       " 497.90870813936016,\n",
       " 526.8285045447503,\n",
       " 557.4280358301648,\n",
       " 589.8048652435457,\n",
       " 624.0622227529022,\n",
       " 660.3093341837354,\n",
       " 698.661769473595,\n",
       " 739.2418111541489,\n",
       " 782.1788442356161,\n",
       " 827.6097687366718,\n",
       " 875.6794361751404,\n",
       " 926.5411114111645,\n",
       " 980.3569613153903,\n",
       " 1037.2985718202476,\n",
       " 1097.547495002864,\n",
       " 1161.29582794394,\n",
       " 1228.7468252082172,\n",
       " 1300.1155468993547,\n",
       " 1375.629544355467,\n",
       " 1455.5295856716052,\n",
       " 1540.070423362405,\n",
       " 1629.521606612524,\n",
       " 1724.168340704647,\n",
       " 1824.3123963652333,\n",
       " 1930.2730719273595,\n",
       " 2042.388211378429,\n",
       " 2161.015281538653,\n",
       " 2286.532511804774,\n",
       " 2419.34010009301,\n",
       " 2559.861488826192,\n",
       " 2708.5447150334585,\n",
       " 2865.863838867178,\n",
       " 3032.3204550917185,\n",
       " 3208.445292363309,\n",
       " 3394.799905400141,\n",
       " 3591.9784654379646,\n",
       " 3800.6096546798626,\n",
       " 4021.3586707804975,\n",
       " 4254.929347755832,\n",
       " 4502.066400080647,\n",
       " 4763.557797128957,\n",
       " 5040.237275527883,\n",
       " 5332.9869974353915,\n",
       " 5642.740363217574,\n",
       " 5970.484987493272,\n",
       " 6317.265848034913,\n",
       " 6684.188617565506,\n",
       " 7072.423189074789,\n",
       " 7483.207405894625,\n",
       " 7917.8510084266945,\n",
       " 8377.739810106033,\n",
       " 8864.340115915076,\n",
       " 9379.203397536265,\n",
       " 9923.971240049232,\n",
       " 10500.380575944695,\n",
       " 11110.269223143117,\n",
       " 11755.581744675572,\n",
       " 12438.375648709465,\n",
       " 13160.827948687624,\n",
       " 13925.24210449687,\n",
       " 14734.05536679697,\n",
       " 15589.846547926994,\n",
       " 16495.344244165604,\n",
       " 17453.435535560697,\n",
       " 18467.175191067454,\n",
       " 19539.795408344056,\n",
       " 20674.71611925907,\n",
       " 21875.555893969038,\n",
       " 23146.143478332517,\n",
       " 24490.530001445873,\n",
       " 25913.001892224027,\n",
       " 27418.094546208846,\n",
       " 29010.606786179917,\n",
       " 30695.616162674523,\n",
       " 32478.49514320062,\n",
       " 34364.928241759604,\n",
       " 36360.930143295634,\n",
       " 38472.86488085886,\n",
       " 40707.46612662605,\n",
       " 43071.85866147567,\n",
       " 45573.58109157023,\n",
       " 48220.609884374324,\n",
       " 51021.38480074616,\n",
       " 53984.83580418932,\n",
       " 57120.41153306095,\n",
       " 60438.10942651863,\n",
       " 63948.50760025862,\n",
       " 67662.79857367625,\n",
       " 71592.82495598632,\n",
       " 75751.11720508352,\n",
       " 80150.93357953172,\n",
       " 84806.30241106698,\n",
       " 89732.0668323946,\n",
       " 94943.932102888,\n",
       " 100458.51568308548,\n",
       " 106293.40021764043,\n",
       " 112467.18959565327,\n",
       " 118999.56826713112,\n",
       " 125911.36400469753,\n",
       " 133224.61431065868,\n",
       " 140962.63668116208,\n",
       " 149150.10295147536,\n",
       " 157813.11795942427,\n",
       " 166979.30277780446,\n",
       " 176677.88278114234,\n",
       " 186939.78082759312,\n",
       " 197797.71585308175,\n",
       " 209286.30719204142,\n",
       " 221442.1849573603,\n",
       " 234304.10683147836,\n",
       " 247913.08164100655,\n",
       " 262312.50010886794,\n",
       " 277548.27320085804,\n",
       " 293668.97850772325,\n",
       " 310726.0151294755,\n",
       " 328773.7675557844,\n",
       " 347869.7790649571,\n",
       " 368074.9351943635,\n",
       " 389453.65786729305,\n",
       " 412074.11079519085,\n",
       " 436008.4168101679,\n",
       " 461332.8878207394,\n",
       " 488128.26812397473,\n",
       " 516479.99184982333,\n",
       " 546478.4553584664]"
      ]
     },
     "execution_count": 57,
     "metadata": {},
     "output_type": "execute_result"
    }
   ],
   "source": [
    "bins[100:(len(bins)-16)]"
   ]
  },
  {
   "cell_type": "code",
   "execution_count": 17,
   "metadata": {},
   "outputs": [
    {
     "data": {
      "text/plain": [
       "135"
      ]
     },
     "execution_count": 17,
     "metadata": {},
     "output_type": "execute_result"
    }
   ],
   "source": [
    "len(np.log10(bins[100:(len(bins)-16)]))\n"
   ]
  },
  {
   "cell_type": "code",
   "execution_count": 12,
   "metadata": {
    "collapsed": true
   },
   "outputs": [],
   "source": [
    "def polygon_under_graph(xlist, ylist):\n",
    "    \"\"\"\n",
    "    Construct the vertex list which defines the polygon filling the space under\n",
    "    the (xlist, ylist) line graph.  Assumes the xs are in ascending order.\n",
    "    \"\"\"\n",
    "    return [(xlist[0], 0.), *zip(xlist, ylist), (xlist[-1], 0.)]"
   ]
  },
  {
   "cell_type": "code",
   "execution_count": 77,
   "metadata": {},
   "outputs": [
    {
     "data": {
      "text/plain": [
       "array([[0.063536, 0.028426, 0.533124, 1.      ],\n",
       "       [0.075353, 0.027206, 0.538007, 1.      ]])"
      ]
     },
     "execution_count": 77,
     "metadata": {},
     "output_type": "execute_result"
    }
   ],
   "source": [
    "cmap([1,2])"
   ]
  },
  {
   "cell_type": "code",
   "execution_count": 92,
   "metadata": {},
   "outputs": [
    {
     "data": {
      "text/plain": [
       "199.13701834415417"
      ]
     },
     "execution_count": 92,
     "metadata": {},
     "output_type": "execute_result"
    }
   ],
   "source": [
    "np.std([9.58, 50.2, 132, 512.4])"
   ]
  },
  {
   "cell_type": "code",
   "execution_count": null,
   "metadata": {
    "collapsed": true
   },
   "outputs": [],
   "source": []
  }
 ],
 "metadata": {
  "kernelspec": {
   "display_name": "Python 3",
   "language": "python",
   "name": "python3"
  },
  "language_info": {
   "codemirror_mode": {
    "name": "ipython",
    "version": 3
   },
   "file_extension": ".py",
   "mimetype": "text/x-python",
   "name": "python",
   "nbconvert_exporter": "python",
   "pygments_lexer": "ipython3",
   "version": "3.6.1"
  }
 },
 "nbformat": 4,
 "nbformat_minor": 2
}
