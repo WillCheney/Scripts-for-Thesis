{
 "cells": [
  {
   "cell_type": "code",
   "execution_count": 2,
   "metadata": {
    "collapsed": true
   },
   "outputs": [],
   "source": [
    "#Generates Growth curve and ∆OD/∆T graphs for cholesterol producing strains and wildtype\n",
    "#Will Cheney 2019\n",
    "import numpy as np\n",
    "import pandas as pd\n",
    "import matplotlib.pyplot as plt\n",
    "from scipy.stats import ttest_ind_from_stats\n",
    "from scipy.interpolate import BSpline, make_interp_spline\n",
    "from scipy.optimize import curve_fit\n",
    "from scipy import stats\n",
    "\n"
   ]
  },
  {
   "cell_type": "code",
   "execution_count": 3,
   "metadata": {
    "collapsed": true
   },
   "outputs": [],
   "source": [
    "#loading data\n",
    "input_filename = '2020-01-29 Growth curve by d2 bb.xlsx'\n",
    "plate1 = pd.read_excel(input_filename, header = None)\n",
    "\n",
    "input_filename = 'cholesterolgrowth curve I.xlsx'\n",
    "plate2 = pd.read_excel(input_filename, header = None)"
   ]
  },
  {
   "cell_type": "code",
   "execution_count": 4,
   "metadata": {},
   "outputs": [],
   "source": [
    "#seperating data by strain\n",
    "\n",
    "by4741 = plate2.iloc[[12,13,14], range(0,95)]\n",
    "d2 = plate2.iloc[[15,16,17], range(0,95)]\n",
    "bb = plate2.iloc[[24,25,26], range(0,95)]"
   ]
  },
  {
   "cell_type": "code",
   "execution_count": 98,
   "metadata": {
    "collapsed": true
   },
   "outputs": [],
   "source": [
    "def general_logistic(x,a,b,m,n,v):\n",
    "    return a + ((b - a) / (1 + np.exp(-n*(x - m))**(1/v)))"
   ]
  },
  {
   "cell_type": "code",
   "execution_count": 67,
   "metadata": {
    "collapsed": true
   },
   "outputs": [],
   "source": [
    "def logistic(x,b,c,k):\n",
    "    return b / (1.0 + np.exp(-k**(x-c)))"
   ]
  },
  {
   "cell_type": "code",
   "execution_count": 70,
   "metadata": {
    "collapsed": true
   },
   "outputs": [],
   "source": [
    "def hill(x,a,b,c,n):\n",
    "    return a + ((b - a) / (1 + (c/x)**n))"
   ]
  },
  {
   "cell_type": "code",
   "execution_count": 5,
   "metadata": {
    "collapsed": true
   },
   "outputs": [],
   "source": [
    "#mean value at each time point for each strain\n",
    "mean_by4741 = by4741.apply(np.mean, axis = 0)\n",
    "mean_d2 = d2.apply(np.mean, axis = 0)\n",
    "mean_bb = bb.apply(np.mean, axis = 0)\n",
    "#mean_corrected = d2_corrected.apply(np.mean, axis = 0)\n",
    "\n",
    "error_by4741 = by4741.apply(np.std, axis = 0)\n",
    "error_d2 = d2.apply(np.std, axis = 0)\n",
    "error_bb = bb.apply(np.std, axis = 0)\n",
    "#error_corrected = d2_corrected.apply(np.std,axis = 0)\n"
   ]
  },
  {
   "cell_type": "code",
   "execution_count": 6,
   "metadata": {
    "collapsed": true
   },
   "outputs": [],
   "source": [
    "#intializing time data\n",
    "time_interval = 15\n",
    "\n",
    "time = np.array([range(len(mean_by4741))])\n",
    "time = time * time_interval\n"
   ]
  },
  {
   "cell_type": "code",
   "execution_count": 6,
   "metadata": {},
   "outputs": [
    {
     "data": {
      "image/png": "[encoded data removed]",
      "text/plain": [
       "<Figure size 432x288 with 1 Axes>"
      ]
     },
     "metadata": {},
     "output_type": "display_data"
    }
   ],
   "source": [
    "#ploting OD at each time point\n",
    "\n",
    "plt.plot(time.T, mean_by4741, label = 'BY4741', color = '#353b48', zorder = 10)\n",
    "plt.fill_between(time.squeeze(), mean_by4741 - error_by4741, mean_by4741 + error_by4741, alpha = 0.2, color = '#353b48', zorder = 5)\n",
    "\n",
    "plt.plot(time.T, mean_d2, label = 'Cholesterol Alternative Loci', color = '#00a8ff', zorder = 10)\n",
    "#plt.errorbar(time.T, mean_d2, yerr = error_d2)\n",
    "plt.fill_between(time.squeeze(), mean_d2 - error_d2, mean_d2 + error_d2, alpha = 0.2, color = '#00a8ff', zorder = 5)\n",
    "\n",
    "#plt.plot(time.T, d2_correct, color = 'orange')\n",
    "#plt.plot(time.T, mean, label = 'Cholesterol Alternative Loci', color = '#00a8ff', zorder = 10)\n",
    "#plt.errorbar(time.T, mean_d2, yerr = error_d2)\n",
    "#plt.fill_between(time.squeeze(), mean_d2 - error_d2, mean_d2 + error_d2, alpha = 0.2, color = '#00a8ff', zorder = 5)\n",
    "\n",
    "\n",
    "plt.plot(time.T, mean_bb, label = 'Cholesterol Native Loci', color = '#8c7ae6',zorder = 10)\n",
    "#plt.errorbar(time.T, mean_bb, yerr = error_bb)\n",
    "#plt.plot(time.T, mean_corrected, color = 'firebrick')\n",
    "plt.fill_between(time.squeeze(), mean_bb - error_bb, mean_bb + error_bb, alpha = 0.2, color = '#8c7ae6', zorder = 5)\n",
    "#plt.yscale('log')\n",
    "plt.ylim(0,1.4)\n",
    "plt.xticks([0,240,480,720,960,1200,1440])\n",
    "fig = plt.gcf()\n",
    "plt.show()"
   ]
  },
  {
   "cell_type": "code",
   "execution_count": 7,
   "metadata": {
    "collapsed": true
   },
   "outputs": [],
   "source": [
    "#figure save\n",
    "fig.savefig('2020-08-03 growth growth curven',dpi = 300, bbox_inches='tight')"
   ]
  },
  {
   "cell_type": "code",
   "execution_count": 8,
   "metadata": {
    "collapsed": true
   },
   "outputs": [],
   "source": [
    "#functions to get ∆OD/∆T data\n",
    "delta_time = []\n",
    "for i in range(len(time[0]) - 1):\n",
    "\n",
    "    delta_time.append((time[0][(i+1)] + time[0][i])/2)\n",
    "\n",
    "def delta(x):\n",
    "    result = []\n",
    "    for i in range(len(x)-1):\n",
    "        result.append(float(x[i+1] - x[i]))\n",
    "    return result\n",
    "\n",
    "def mean_std_of_series(x):\n",
    "    mean = np.array([])\n",
    "    std = np.array([])\n",
    "    for i in range(len(x.iloc[0])):\n",
    "        mean = np.append(mean, np.mean([x.iloc[0][i],x.iloc[1][i],x.iloc[2][i]]))\n",
    "        std = np.append(std, np.std([x.iloc[0][i],x.iloc[1][i],x.iloc[2][i]]))\n",
    "                    \n",
    "    return mean,std"
   ]
  },
  {
   "cell_type": "code",
   "execution_count": 9,
   "metadata": {
    "collapsed": true
   },
   "outputs": [],
   "source": [
    "delta_by4741 = by4741.apply(delta, axis = 1)\n",
    "delta_d2 = d2.apply(delta, axis = 1)\n",
    "delta_bb = bb.apply(delta, axis = 1)\n",
    "\n",
    "mean_delta_by4741,std_delta_by4741 = mean_std_of_series(delta_by4741)\n",
    "mean_delta_d2, std_delta_d2 = mean_std_of_series(delta_d2)\n",
    "mean_delta_bb, std_delta_bb = mean_std_of_series(delta_bb)"
   ]
  },
  {
   "cell_type": "code",
   "execution_count": 7,
   "metadata": {
    "collapsed": true
   },
   "outputs": [],
   "source": [
    "#Weighted average function to smooth deriavtive data\n",
    "def weighted_average(od, theta = 0.5):\n",
    "    result = []\n",
    "    for i in range(len(od)):\n",
    "        if not result:\n",
    "            result.append(od[i])\n",
    "        else:\n",
    "            result.append(theta*result[-1] + (1-theta)*od[i])\n",
    "            \n",
    "    return result"
   ]
  },
  {
   "cell_type": "code",
   "execution_count": 10,
   "metadata": {
    "collapsed": true
   },
   "outputs": [],
   "source": [
    "average_by4741 = weighted_average(mean_delta_by4741,theta = (1- 1/4))\n",
    "average_d2 = weighted_average(mean_delta_d2, theta = (1- 1/4))\n",
    "average_bb = weighted_average(mean_delta_bb, theta = (1- 1/4))\n",
    "#average_correct = weighted_average(delta(d2_correct),theta = (1- 1/4))"
   ]
  },
  {
   "cell_type": "code",
   "execution_count": 11,
   "metadata": {},
   "outputs": [
    {
     "data": {
      "image/png": "[encoded data removed]",
      "text/plain": [
       "<Figure size 432x288 with 1 Axes>"
      ]
     },
     "metadata": {},
     "output_type": "display_data"
    }
   ],
   "source": [
    "plt.plot(delta_time[1:], average_d2[1:], color = '#00a8ff')\n",
    "plt.plot(delta_time[1:], average_by4741[1:], color = '#353b48')\n",
    "plt.plot(delta_time[1:], average_bb[1:], color = '#8c7ae6')\n",
    "#plt.plot(delta_time[1:], average_correct[1:], color = 'orange')\n",
    "\n",
    "\n",
    "plt.plot(delta_time[1:96], [0]*len(delta_time[1:]), color = 'r', linestyle = 'dashed')\n",
    "plt.xticks([0,240,480,720,960,1200,1440])\n",
    "\n",
    "fig = plt.gcf()\n",
    "plt.show()"
   ]
  },
  {
   "cell_type": "code",
   "execution_count": 70,
   "metadata": {
    "collapsed": true
   },
   "outputs": [],
   "source": [
    "fig.savefig('2020-08-03 messy derviative ',dpi = 300, bbox_inches='tight')"
   ]
  },
  {
   "cell_type": "code",
   "execution_count": 81,
   "metadata": {
    "collapsed": true
   },
   "outputs": [],
   "source": [
    "#adjusted for difference in starting OD\n",
    "\n",
    "result = []\n",
    "for i in range(3):\n",
    "    growth = delta_d2.iloc[i]/d2.iloc[i][0:94]\n",
    "    correct = [mean_by4741[0]]\n",
    "    for i in growth:\n",
    "        correct.append(correct[-1]*(1 + i))\n",
    "    result.append(correct)\n",
    "    \n",
    "d2_corrected = pd.DataFrame(result)\n",
    "mean_corrected = d2_corrected.apply(np.mean, axis = 0)\n"
   ]
  },
  {
   "cell_type": "code",
   "execution_count": 104,
   "metadata": {},
   "outputs": [
    {
     "name": "stdout",
     "output_type": "stream",
     "text": [
      "30\n"
     ]
    }
   ],
   "source": [
    "for i in range(len(d2_correct)):\n",
    "    if d2_correct[i] >= 2*d2_correct[0]:\n",
    "        print(i)\n",
    "        break\n",
    "#d2 28, 27, 25\n",
    "#by4741 20, 20, 20"
   ]
  },
  {
   "cell_type": "code",
   "execution_count": 65,
   "metadata": {},
   "outputs": [
    {
     "data": {
      "text/plain": [
       "0.14048840851315145"
      ]
     },
     "execution_count": 65,
     "metadata": {},
     "output_type": "execute_result"
    }
   ],
   "source": [
    "d2_fit[0]"
   ]
  },
  {
   "cell_type": "code",
   "execution_count": 299,
   "metadata": {},
   "outputs": [
    {
     "data": {
      "text/plain": [
       "94"
      ]
     },
     "execution_count": 299,
     "metadata": {},
     "output_type": "execute_result"
    }
   ],
   "source": [
    "mean_delta_by4741,std_delta_by4741 = mean_std_of_series(delta_by4741)\n",
    "mean_delta_d2_2, std_delta_d2_2 = mean_std_of_series(delta_d2)\n",
    "mean_delta_bb, std_delta_bb = mean_std_of_series(delta_bb)\n",
    "len(mean_delta_d2_2)"
   ]
  },
  {
   "cell_type": "code",
   "execution_count": 99,
   "metadata": {},
   "outputs": [
    {
     "name": "stderr",
     "output_type": "stream",
     "text": [
      "/Library/Frameworks/Python.framework/Versions/3.6/lib/python3.6/site-packages/ipykernel_launcher.py:2: RuntimeWarning: overflow encountered in exp\n",
      "  \n"
     ]
    }
   ],
   "source": [
    "#fitting generalized logistic function to d2 data\n",
    "#mean_d2 = mean_d2.to_numpy()\n",
    "d2_opt ,d2cov = curve_fit(general_logistic, time.T.flatten(), mean_d2.flatten())\n",
    "\n",
    "#d2 opt2.27e-1, 1.254, 6.06e2, 1.041 e-2, 1.35\n"
   ]
  },
  {
   "cell_type": "code",
   "execution_count": 100,
   "metadata": {},
   "outputs": [
    {
     "data": {
      "text/plain": [
       "array([ 1.43140103e-01,  1.25733466e+00,  5.72880688e+02, -7.83128440e-01,\n",
       "       -8.27883076e+01])"
      ]
     },
     "execution_count": 100,
     "metadata": {},
     "output_type": "execute_result"
    }
   ],
   "source": [
    "d2_opt"
   ]
  },
  {
   "cell_type": "code",
   "execution_count": 101,
   "metadata": {
    "collapsed": true
   },
   "outputs": [],
   "source": [
    "xline = np.linspace(0, 1400,95)\n",
    "\n",
    "d2_fit = general_logistic(xline,*d2_opt)\n",
    "correct_parameters = d2_opt\n",
    "correct_parameters[0] = mean_by4741[0]\n",
    "d2_correct = general_logistic(xline, *correct_parameters)\n",
    "#def general_logistic(x,a,b,q,n,v):\n",
    "#    return a + ((b - a) / (1 + q*np.exp(-n*x))**(1/v))"
   ]
  },
  {
   "cell_type": "code",
   "execution_count": 102,
   "metadata": {},
   "outputs": [
    {
     "data": {
      "image/png": "[encoded data removed]",
      "text/plain": [
       "<Figure size 432x288 with 1 Axes>"
      ]
     },
     "metadata": {},
     "output_type": "display_data"
    }
   ],
   "source": [
    "plt.plot(time.T,d2_fit)\n",
    "plt.plot(time.T, mean_d2)\n",
    "plt.plot(time.T,d2_correct)\n",
    "#plt.plot(time.T, mean_by4741)\n",
    "#plt.plot(time.T, mean_corrected)\n",
    "plt.show()"
   ]
  }
 ],
 "metadata": {
  "kernelspec": {
   "display_name": "Python 3",
   "language": "python",
   "name": "python3"
  },
  "language_info": {
   "codemirror_mode": {
    "name": "ipython",
    "version": 3
   },
   "file_extension": ".py",
   "mimetype": "text/x-python",
   "name": "python",
   "nbconvert_exporter": "python",
   "pygments_lexer": "ipython3",
   "version": "3.6.1"
  }
 },
 "nbformat": 4,
 "nbformat_minor": 2
}
