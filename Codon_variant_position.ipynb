{
 "cells": [
  {
   "cell_type": "code",
   "execution_count": 5,
   "metadata": {
    "collapsed": true
   },
   "outputs": [],
   "source": [
    "#Generates a figure which shows position of each codon variant in a transcript\n",
    "#Will Cheney 2019\n",
    "import matplotlib.pyplot as plt\n",
    "import numpy as np\n",
    "\n",
    "\n",
    "from scipy.ndimage.interpolation import shift\n",
    "reverse_map = {'F': ['TTT','TTC'],'L':['TTA','TTG','CTT','CTC','CTA','CTG'], 'S':['TCC','TCT','TCA','TCG','AGT','AGC'],\n",
    "               'Y':['TAT','TAC'], 'Stop':['TAA','TAG','TGA'], 'C':['TGT','TGC'], 'W':['TGG'], 'P':['CCT','CCC','CCA','CCG'],\n",
    "               'R':['CGT','CGC','CGA','CGG','AGA','AGG'], 'H':['CAT','CAC'], 'Q':['CAA','CAG'], 'I':['ATT','ATC','ATA'],\n",
    "               'T':['ACT','ACC','ACA','ACG'], 'N':['AAT','AAC'],'K':['AAG','AAA'],'V':['GTT','GTC', 'GTA','GTG'],\n",
    "               'A':['GCT','GCC','GCA', 'GCG'],'D':['GAT','GAC'],'E':['GAA','GAG'],'G':['GGT','GGC','GGA','GGG'], 'M':['ATG']}\n"
   ]
  },
  {
   "cell_type": "code",
   "execution_count": 24,
   "metadata": {
    "collapsed": true
   },
   "outputs": [],
   "source": [
    "colors = ['#e84118','#00a8ff','#9c88ff','#4cd137','#fbc531','#353b48'] \n",
    "def stem_graph(sequence, AA, save = False):\n",
    "    sequence = sequence.upper()\n",
    "    sequence = sequence.replace('u', 't')\n",
    "    codons_of_interest = reverse_map[AA]\n",
    "\n",
    "\n",
    "    x = [[] for i in range(len(codons_of_interest))]\n",
    "    y = [[] for i in range(len(codons_of_interest))]\n",
    "\n",
    "\n",
    "    for i in (range(0, len(sequence), 3)):\n",
    "\n",
    "        if sequence[i:(i+3)] in codons_of_interest:\n",
    "            y[codons_of_interest.index(sequence[i:(i+3)])].append(1)\n",
    "            x[codons_of_interest.index(sequence[i:(i+3)])].append(int(i))\n",
    "            #     anotations.append([((i/3),1.1),(i/3)])\n",
    "            # elif receptor[r][i:(i+3)] == codons_of_interest[1]:\n",
    "            #     y2[r].append(-1)\n",
    "            #     x2[r].append(i/3)\n",
    "            #     anotations.append([((i/3),-1.1),(i/3)])\n",
    "\n",
    "\n",
    "    #for i in range(0,len(receptor)):\n",
    "    for j in range(len(x)):\n",
    "            if len(x[j]) == 0:\n",
    "\n",
    "\n",
    "                continue\n",
    "\n",
    "            # plotnum = 311 + i\n",
    "            # plt.subplot(plotnum)\n",
    "            markerlines, stemlines, baseline  = plt.stem(x[j], y[j])\n",
    "            plt.setp(baseline, color = 'black')\n",
    "            plt.setp\n",
    "            plt.setp(stemlines, color = colors[j])\n",
    "            plt.setp(markerlines, color = colors[j])\n",
    "    plt.legend(codons_of_interest)\n",
    "            #plt.title(titles[i])\n",
    "    plt.ylim(0,1.5)\n",
    "    plt.xlim(0,len(sequence))\n",
    "\n",
    "\n",
    "    #plt.fill_betweenx(2,114)\n",
    "    if save == True:\n",
    "         \n",
    "        return plt.gcf()\n",
    "    else:\n",
    "        plt.show()\n",
    "        return\n",
    "    \n",
    "    "
   ]
  },
  {
   "cell_type": "code",
   "execution_count": 17,
   "metadata": {
    "collapsed": true
   },
   "outputs": [],
   "source": [
    "oprm1_nco = 'ATGGACAGCAGCGCTGCCCCCACGAACGCCAGCAATTGCACTGATGCCTTGGCGTACTCAAGTTGCTCCCCAGCACCCAGCCCCGGTTCCTGGGTCAACTTGTCCCACTTAGATGGCAACCTGTCCGACCCATGCGGTCCGAACCGCACCGACCTGGGCGGGAGAGACAGCCTGTGCCCTCCGACCGGCAGTCCCTCCATGATCACGGCCATCACGATCATGGCCCTCTACTCCATCGTGTGCGTGGTGGGGCTCTTCGGAAACTTCCTGGTCATGTATGTGATTGTCAGATACACCAAGATGAAGACTGCCACCAACATCTACATTTTCAACCTTGCTCTGGCAGATGCCTTAGCCACCAGTACCCTGCCCTTCCAGAGTGTGAATTACCTAATGGGAACATGGCCATTTGGAACCATCCTTTGCAAGATAGTGATCTCCATAGATTACTATAACATGTTCACCAGCATATTCACCCTCTGCACCATGAGTGTTGATCGATACATTGCAGTCTGCCACCCTGTCAAGGCCTTAGATTTCCGTACTCCCCGAAATGCCAAAATTATCAATGTCTGCAACTGGATCCTCTCTTCAGCCATTGGTCTTCCTGTAATGTTCATGGCTACAACAAAATACAGGCAAGGTTCCATAGATTGTACACTAACATTCTCTCATCCAACCTGGTACTGGGAAAACCTGCTGAAGATCTGTGTTTTCATCTTCGCCTTCATTATGCCAGTGCTCATCATTACCGTGTGCTATGGACTGATGATCTTGCGCCTCAAGAGTGTCCGCATGCTCTCTGGCTCCAAAGAAAAGGACAGGAATCTTCGAAGGATCACCAGGATGGTGCTGGTGGTGGTGGCTGTGTTCATCGTCTGCTGGACTCCCATTCACATTTACGTCATCATTAAAGCCTTGGTTACAATCCCAGAAACTACGTTCCAGACTGTTTCTTGGCACTTCTGCATTGCTCTAGGTTACACAAACAGCTGCCTCAACCCAGTCCTTTATGCATTTCTGGATGAAAACTTCAAACGATGCTTCAGAGAGTTCTGTATCCCAACCTCTTCCAACATTGAGCAACAAAACTCCACTCGAATTCGTCAGAACACTAGAGACCACCCCTCCACGGCCAATACAGTGGATAGAACTAATCATCAGCTAGAAAATCTGGAAGCAGAAACTGCTCCGTTGCCCTAA'"
   ]
  },
  {
   "cell_type": "code",
   "execution_count": 25,
   "metadata": {},
   "outputs": [
    {
     "name": "stderr",
     "output_type": "stream",
     "text": [
      "/Library/Frameworks/Python.framework/Versions/3.6/lib/python3.6/site-packages/ipykernel_launcher.py:33: UserWarning: In Matplotlib 3.3 individual lines on a stem plot will be added as a LineCollection instead of individual lines. This significantly improves the performance of a stem plot. To remove this warning and switch to the new behaviour, set the \"use_line_collection\" keyword argument to True.\n"
     ]
    },
    {
     "data": {
      "image/png": "[encoded data removed]",
      "text/plain": [
       "<Figure size 432x288 with 1 Axes>"
      ]
     },
     "metadata": {},
     "output_type": "display_data"
    }
   ],
   "source": [
    "stem_graph(oprm1_nco, 'A', False)\n"
   ]
  },
  {
   "cell_type": "code",
   "execution_count": 73,
   "metadata": {},
   "outputs": [
    {
     "name": "stderr",
     "output_type": "stream",
     "text": [
      "/Library/Frameworks/Python.framework/Versions/3.6/lib/python3.6/site-packages/ipykernel_launcher.py:30: UserWarning: In Matplotlib 3.3 individual lines on a stem plot will be added as a LineCollection instead of individual lines. This significantly improves the performance of a stem plot. To remove this warning and switch to the new behaviour, set the \"use_line_collection\" keyword argument to True.\n"
     ]
    }
   ],
   "source": [
    "fig = stem_graph(oprm1_nco, 'E', True)\n",
    "\n",
    "fig.savefig('2020-07-30 oprm1 E distribution',dpi = 300, bbox_inches='tight')"
   ]
  },
  {
   "cell_type": "code",
   "execution_count": null,
   "metadata": {
    "collapsed": true
   },
   "outputs": [],
   "source": []
  }
 ],
 "metadata": {
  "kernelspec": {
   "display_name": "Python 3",
   "language": "python",
   "name": "python3"
  },
  "language_info": {
   "codemirror_mode": {
    "name": "ipython",
    "version": 3
   },
   "file_extension": ".py",
   "mimetype": "text/x-python",
   "name": "python",
   "nbconvert_exporter": "python",
   "pygments_lexer": "ipython3",
   "version": "3.6.1"
  }
 },
 "nbformat": 4,
 "nbformat_minor": 2
}
